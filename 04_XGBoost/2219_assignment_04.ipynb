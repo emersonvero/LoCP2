{
 "cells": [
  {
   "cell_type": "markdown",
   "id": "ee26efec",
   "metadata": {},
   "source": [
    "# LCPB 21-22 Exercise 4, EGBoost\n",
    "## Group 19\n",
    "\n",
    "Alessandro Zanoli, Emerson Rodrigues Vero filho, Luca Giorgetti, Raffaele Gaudio"
   ]
  },
  {
   "cell_type": "code",
   "execution_count": 3,
   "id": "f2f7b0d3",
   "metadata": {},
   "outputs": [],
   "source": [
    "import numpy as np\n",
    "import pandas as pd\n",
    "import matplotlib.pyplot as plt\n",
    "plt.rcParams['font.size'] = 14\n",
    "from tsfresh import extract_features\n",
    "from xgboost import XGBClassifier, plot_tree\n",
    "# random seed for reproducibility\n",
    "plt.style.use('seaborn')\n",
    "%run plot.py"
   ]
  },
  {
   "cell_type": "markdown",
   "id": "f14ef8b4",
   "metadata": {},
   "source": [
    "## Loading Data"
   ]
  },
  {
   "cell_type": "code",
   "execution_count": 19,
   "id": "b245f1f9",
   "metadata": {},
   "outputs": [
    {
     "data": {
      "text/plain": [
       "array([[[ 1.300e+01,  2.400e+01],\n",
       "        [ 1.800e+01,  4.000e+01],\n",
       "        [ 6.000e+01, -4.000e+00],\n",
       "        ...,\n",
       "        [ 1.435e+03,  8.380e+02],\n",
       "        [ 1.484e+03,  8.380e+02],\n",
       "        [ 1.483e+03,  8.640e+02]],\n",
       "\n",
       "       [[-1.700e+01,  1.200e+01],\n",
       "        [ 6.500e+01, -2.900e+01],\n",
       "        [ 5.600e+01, -1.030e+02],\n",
       "        ...,\n",
       "        [ 1.502e+03,  1.489e+03],\n",
       "        [ 1.611e+03,  1.504e+03],\n",
       "        [ 1.589e+03,  1.632e+03]],\n",
       "\n",
       "       [[-5.000e+00, -8.000e+00],\n",
       "        [ 5.900e+01, -1.620e+02],\n",
       "        [ 1.160e+02, -2.090e+02],\n",
       "        ...,\n",
       "        [ 9.250e+02,  1.484e+03],\n",
       "        [ 9.270e+02,  1.496e+03],\n",
       "        [ 8.790e+02,  1.527e+03]],\n",
       "\n",
       "       ...,\n",
       "\n",
       "       [[ 6.500e+01, -6.700e+01],\n",
       "        [ 2.200e+01, -6.700e+01],\n",
       "        [ 0.000e+00, -5.000e+01],\n",
       "        ...,\n",
       "        [ 1.789e+03,  1.217e+03],\n",
       "        [ 1.788e+03,  1.258e+03],\n",
       "        [ 1.907e+03,  1.306e+03]],\n",
       "\n",
       "       [[ 2.500e+01, -6.000e+01],\n",
       "        [-4.600e+01, -7.600e+01],\n",
       "        [-9.500e+01, -3.800e+01],\n",
       "        ...,\n",
       "        [ 1.554e+03,  1.099e+03],\n",
       "        [ 1.500e+03,  1.024e+03],\n",
       "        [ 1.589e+03,  9.380e+02]],\n",
       "\n",
       "       [[-6.800e+01, -1.000e+00],\n",
       "        [-7.100e+01, -8.000e+01],\n",
       "        [-7.700e+01, -3.700e+01],\n",
       "        ...,\n",
       "        [ 5.010e+02,  7.300e+01],\n",
       "        [ 4.840e+02,  4.700e+01],\n",
       "        [ 5.320e+02,  1.330e+02]]])"
      ]
     },
     "execution_count": 19,
     "metadata": {},
     "output_type": "execute_result"
    }
   ],
   "source": [
    "#use the dataset generated in the last exercise (we cannot generate the data again, because we have to use the same dataset to campare the performance of the CNN and the XGBoost )\n",
    "\n",
    "np.load(\"./DATA_04/x_ts_L200_Z12_A500_DX50_bias5_N10000.dat.npy\")"
   ]
  },
  {
   "cell_type": "code",
   "execution_count": null,
   "id": "a0d06337",
   "metadata": {},
   "outputs": [],
   "source": []
  }
 ],
 "metadata": {
  "kernelspec": {
   "display_name": "Python 3 (ipykernel)",
   "language": "python",
   "name": "python3"
  },
  "language_info": {
   "codemirror_mode": {
    "name": "ipython",
    "version": 3
   },
   "file_extension": ".py",
   "mimetype": "text/x-python",
   "name": "python",
   "nbconvert_exporter": "python",
   "pygments_lexer": "ipython3",
   "version": "3.9.7"
  }
 },
 "nbformat": 4,
 "nbformat_minor": 5
}
