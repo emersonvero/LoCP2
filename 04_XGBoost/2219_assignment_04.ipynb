{
 "cells": [
  {
   "cell_type": "code",
   "execution_count": 1,
   "id": "bd8a64e3",
   "metadata": {},
   "outputs": [],
   "source": [
    "import numpy as np\n",
    "import pandas as pd\n",
    "import matplotlib.pyplot as plt\n",
    "plt.rcParams['font.size'] = 14\n",
    "from tsfresh import extract_features\n",
    "from xgboost import XGBClassifier, plot_tree\n",
    "# random seed for reproducibility\n",
    "plt.style.use('seaborn')\n",
    "%run plot.py\n"
   ]
  },
  {
   "cell_type": "code",
   "execution_count": null,
   "id": "b245f1f9",
   "metadata": {},
   "outputs": [],
   "source": [
    "#use the dataset generated in the last exercise (we will generate the data again)\n",
    "# we want to add this pattern at various points of the gaussian time series and see if the CNN finds it\n",
    "\n",
    "def pattern(i,z,a):\n",
    "    # Z is the lenght of the \"bump\" due to half sin oscillation\n",
    "    # a is the amplitude\n",
    "    return int(a*np.sin((np.pi*i)/z))\n"
   ]
  },
  {
   "cell_type": "code",
   "execution_count": null,
   "id": "722f2ad7",
   "metadata": {},
   "outputs": [],
   "source": [
    "N = 10000 # number of samples\n",
    "L = 200 # time-points in each samples\n",
    "D = 2 # number of time series\n",
    "\n",
    "DX = 50 # std of gaussian noise\n",
    "bias = 5 # bias of gaussian noise\n",
    "\n",
    "# pattern properties\n",
    "signal_to_noise = 10\n",
    "Z = 12\n",
    "A = signal_to_noise*DX # default is 10*DX\n",
    "\n",
    "n_class=3\n",
    "\n",
    "\n",
    "x = np.zeros((N,L,D)) # empty array with N rows of (L,D) cells (samples)\n",
    "y_l = np.random.randint(0,3,N) # array of N random numbers between 0 and 2 representing the label\n",
    "                             # 0 : large pattern positive\n",
    "                             # 1 : pattern present positive\n",
    "                             # 2 : pattern present negative\n",
    "\n",
    "for i in range(x.shape[0]): # running through every sample\n",
    "    \n",
    "    # generate noisy time series\n",
    "    for j in range(x.shape[1]): # running through every time point\n",
    "        if j == 0:\n",
    "            x[i][j] = np.random.normal(loc=bias,scale=DX,size=(1,D)).astype(int) # starting gaussian noise\n",
    "\n",
    "        else:\n",
    "            x[i][j] = x[i][j-1] + np.random.normal(loc=bias,scale=DX,size=(1,D)).astype(int) # adding gaussian noise\n",
    "\n",
    "    # generate pattern\n",
    "    # we will generate them with a little temporal offset of 3 time points\n",
    "    offset = 3\n",
    "    j0 = np.random.randint(0,x.shape[1]-(Z+offset)) # do not pick the random pattern starting point closer to the edge than a whole pattern\n",
    "    sign = 3-2*y_l[i]\n",
    "\n",
    "    for j in range(0,Z):\n",
    "        x[i][j0+j][0] += sign*pattern(j,Z,A)\n",
    "        x[i][j0+j+offset][1] += -sign*pattern(j/2,Z,A) # second pattern a bit shifted and with a different shape,opposite sign"
   ]
  }
 ],
 "metadata": {
  "kernelspec": {
   "display_name": "Python 3 (ipykernel)",
   "language": "python",
   "name": "python3"
  },
  "language_info": {
   "codemirror_mode": {
    "name": "ipython",
    "version": 3
   },
   "file_extension": ".py",
   "mimetype": "text/x-python",
   "name": "python",
   "nbconvert_exporter": "python",
   "pygments_lexer": "ipython3",
   "version": "3.9.7"
  }
 },
 "nbformat": 4,
 "nbformat_minor": 5
}
