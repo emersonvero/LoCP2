{
 "cells": [
  {
   "cell_type": "markdown",
   "metadata": {},
   "source": [
    "# A Bayesian approach to Sparse Identification of Non-linear Dynamics (SINDy)\n",
    "\n",
    "## SINDy\n",
    "\n",
    "[...]\n",
    "\n",
    "## Bayesian Linear Regression\n",
    "\n",
    "Within the framework of linear regression, a linear relation is assumed to exist between observed data and a number $k$ of explanatory variables: \n",
    "\n",
    "$$\n",
    "y_i = \\boldsymbol{X}_i^T \\boldsymbol{w} + \\epsilon_i \n",
    "$$\n",
    "\n",
    "with\n",
    "\n",
    "$$\n",
    "\\boldsymbol{X}_i^T = \n",
    "\\begin{pmatrix}\n",
    "1 \\\\\n",
    "x_1 \\\\\n",
    "x_2 \\\\\n",
    "\\dots \\\\\n",
    "x_k \n",
    "\\end{pmatrix}\n",
    "$$\n",
    "\n",
    "and\n",
    "\n",
    "$$\n",
    "\\boldsymbol{w} = (w_0,w_1,\\dots,w_k)\n",
    "$$\n",
    "\n",
    "The problem is estimating the model's parameters vector $\\boldsymbol{w}$, and more precisely its _probability distribution_, meant as a mathematical formulation of our uncertainty about it, given the observed data $\\boldsymbol{X}$, using the Bayes theorem as the cornerstone of our reasoning:\n",
    "\n",
    "$$\n",
    "P(model|evidence) = \\frac{P(evidence|model)P(model)}{P(evidence)}\n",
    "$$"
   ]
  },
  {
   "cell_type": "code",
   "execution_count": null,
   "metadata": {},
   "outputs": [],
   "source": []
  }
 ],
 "metadata": {
  "language_info": {
   "name": "python"
  },
  "orig_nbformat": 4
 },
 "nbformat": 4,
 "nbformat_minor": 2
}
