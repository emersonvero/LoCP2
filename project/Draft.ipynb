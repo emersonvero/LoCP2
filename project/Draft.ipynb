{
 "cells": [
  {
   "cell_type": "markdown",
   "metadata": {},
   "source": [
    "# A Bayesian approach to Sparse Identification of Non-linear Dynamics (SINDy)\n",
    "\n",
    "## SINDy\n",
    "\n",
    "$$\n",
    "\\boldsymbol{\\dot{u}} = \\boldsymbol{\\Theta}\\boldsymbol{\\xi}\n",
    "$$\n",
    "\n",
    "By finding the coefficients $\\boldsymbol{\\xi}$ that minimize the loss with some optimizing algorithm.\n",
    "\n",
    "Let us now suppose that the data is affected by noise drawn from a gaussian distribution:\n",
    "\n",
    "$$\n",
    "\\boldsymbol{\\dot{u}} = \\boldsymbol{\\Theta}\\boldsymbol{\\xi} + \\boldsymbol{\\epsilon}\n",
    "$$\n",
    "\n",
    "with \n",
    "\n",
    "$$\n",
    "\\epsilon_i \\sim \\mathcal{N}(0,\\sigma^2)\n",
    "$$\n",
    "\n",
    "$$\n",
    "<\\epsilon_i(t)\\epsilon_j(\\tau)>=\\delta_{i,j}\\delta(t-\\tau)\n",
    "$$\n",
    "\n",
    "This model implies the following likelihood distribution for $\\boldsymbol{\\dot{u}}$:\n",
    "\n",
    "$$\n",
    "P(\\boldsymbol{\\dot{u}}|\\boldsymbol{\\Theta},\\boldsymbol{\\xi},\\sigma^2) \\propto (\\sigma^2)^{-n/2} \\exp \\left ( -\\frac{1}{2\\sigma^2} (\\boldsymbol{\\dot{u}} - \\boldsymbol{\\Theta}\\boldsymbol{\\xi} )^T(\\boldsymbol{\\dot{u}} - \\boldsymbol{\\Theta}\\boldsymbol{\\xi} ) \\right )\n",
    "$$\n",
    "\n",
    "So the minimizing algorithm is basically looking for the coefficients that maximize the likelihood of the observed data (by making $\\boldsymbol{\\dot{u}} - \\boldsymbol{\\Theta}\\boldsymbol{\\xi} $ small).\n",
    "\n",
    "### Prior distribution\n",
    "\n",
    "Now, the choice of the proper a priori distribution to estimate the posterior distribution is a crucial matter: it should reflect how the algorithm works, because if, for instance, we impose L2 regularization, the algorithm isn't simply trying to minimize $\\boldsymbol{\\dot{u}} - \\boldsymbol{\\Theta}\\boldsymbol{\\xi}$ (i.e. maximizing the likelihood of the data combined with a uniform prior) but it's also trying to make $||\\boldsymbol{\\xi}||^2$ small. We can prove that this is the same as imposing a Gaussian prior; first, recall the Maximum A Posteriori (_MAP_) estimation problem:\n",
    "\n",
    "$$\n",
    "\\hat{\\boldsymbol{\\xi}}_{MAP} = \\argmax_{\\boldsymbol{\\xi}} P(\\boldsymbol{\\xi} | \\boldsymbol{\\Theta},\\boldsymbol{\\dot{u}},\\sigma^2) = \\argmax_{\\boldsymbol{\\xi}}  P(\\boldsymbol{\\dot{u}}|\\boldsymbol{\\xi},\\boldsymbol{\\Theta},\\sigma^2) P(\\boldsymbol{\\xi})\n",
    "$$\n",
    "\n",
    "consider the logarithm:\n",
    "\n",
    "$$\n",
    "\\log (P(\\boldsymbol{\\xi} | \\boldsymbol{\\Theta},\\boldsymbol{\\dot{u}},\\sigma^2)) = \\log (P(\\boldsymbol{\\dot{u}}|\\boldsymbol{\\xi},\\boldsymbol{\\Theta},\\sigma^2)) + \\log (P(\\boldsymbol{\\xi}))\n",
    "$$\n",
    "\n",
    "We already wrote down the likelihood $P(\\boldsymbol{\\dot{u}}|\\boldsymbol{\\xi},\\boldsymbol{\\Theta},\\sigma^2)$ earlier; if we assume a normal multivariate prior $\\boldsymbol{\\xi}\\sim \\mathcal{N}(0,\\boldsymbol{S})$, we have\n",
    "\n",
    "$$\n",
    "\\log (P(\\boldsymbol{\\xi} )) = \\log (\\mathcal{N}(0,\\boldsymbol{S})) = \\log \\left [ \\frac{1}{(2\\pi)^{D/2}|\\boldsymbol{S}|^{1/2}} \\exp (-\\frac{1}{2}\\boldsymbol{\\xi}^T \\boldsymbol{S}^{-1}\\boldsymbol{\\xi}) \\right ]\n",
    "$$\n",
    "\n",
    "if we also assume $\\boldsymbol{S}=\\eta \\boldsymbol{I}$, we find (ignoring constant terms)\n",
    "\n",
    "$$\n",
    "\\log (P(\\boldsymbol{\\xi} )) \\propto -\\frac{1}{2\\eta}||\\boldsymbol{\\xi}||^2\n",
    "$$\n",
    "\n",
    "we can see how a minimizing algorithm that is subject to L2 is also maximizing the posterior distribution for a linear likelihood with a Gaussian prior (we expect the coefficients not to go too far from the origin!)\n",
    "[...]\n",
    "\n",
    "## Bayesian Linear Regression\n",
    "\n",
    "Within the framework of linear regression, a linear relation is assumed to exist between observed data and a number $k$ of explanatory variables: \n",
    "\n",
    "$$\n",
    "y_i = \\boldsymbol{X}_i^T \\boldsymbol{w} + \\epsilon_i \n",
    "$$\n",
    "\n",
    "with\n",
    "\n",
    "$$\n",
    "\\boldsymbol{X}_i^T = \n",
    "\\begin{pmatrix}\n",
    "1 \\\\\n",
    "x_1 \\\\\n",
    "x_2 \\\\\n",
    "\\dots \\\\\n",
    "x_k \n",
    "\\end{pmatrix}\n",
    "$$\n",
    "\n",
    "and\n",
    "\n",
    "$$\n",
    "\\boldsymbol{w} = (w_0,w_1,\\dots,w_k)\n",
    "$$\n",
    "\n",
    "The problem is estimating the model's parameters vector $\\boldsymbol{w}$, and more precisely its _probability distribution_, meant as a mathematical formulation of our uncertainty about it, given the observed data $\\boldsymbol{X}$, using the Bayes theorem as the cornerstone of our reasoning:\n",
    "\n",
    "$$\n",
    "P(model|evidence) = \\frac{P(evidence|model)P(model)}{P(evidence)}\n",
    "$$\n",
    "\n",
    "What is the likelihood of observing some data given model parameters? Each observation $y_i, \\boldsymbol{X}_i$ is drawn from a Gaussian distribution over $y$:\n",
    "\n",
    "$$\n",
    "P(evidence|model) = P(y_i|\\boldsymbol{X}_i, \\boldsymbol{w}) = \\frac{1}{\\sigma \\sqrt{2\\pi}} \\exp \\left [ -\\frac{(y_i - \\boldsymbol{X}_i^T \\boldsymbol{w})^2}{2\\sigma^2} \\right ]\n",
    "$$\n",
    "\n",
    "so multiple observations $\\boldsymbol{y},\\boldsymbol{X}$ (if independent) have likelihood:\n",
    "\n",
    "$$\n",
    "P(\\boldsymbol{y}|\\boldsymbol{X},\\boldsymbol{w}) = \\prod_i^N P(y_i|\\boldsymbol{X}_i, \\boldsymbol{w}) = \\frac{1}{(\\sigma \\sqrt{2\\pi})^N} \\exp \\left [ -  \\frac{ \\sum_i^N (y_i - \\boldsymbol{X}_i^T \\boldsymbol{w})^2}{2\\sigma^2} \\right ]\n",
    "$$\n",
    "\n",
    "or, expressed as log-likelihood:\n",
    "\n",
    "$$\n",
    "\\log[P(\\boldsymbol{y}|\\boldsymbol{X},\\boldsymbol{w})] = -N \\log (\\sigma \\sqrt{2\\pi}) -  \\frac{ \\sum_i^N (y_i - \\boldsymbol{X}_i^T \\boldsymbol{w})^2}{2\\sigma^2}\n",
    "$$\n"
   ]
  },
  {
   "cell_type": "code",
   "execution_count": 110,
   "metadata": {},
   "outputs": [
    {
     "data": {
      "image/png": "[encoded data removed]",
      "text/plain": [
       "<Figure size 432x288 with 1 Axes>"
      ]
     },
     "metadata": {
      "needs_background": "light"
     },
     "output_type": "display_data"
    }
   ],
   "source": [
    "# DATA GENERATION\n",
    "\n",
    "import numpy as np\n",
    "import matplotlib.pyplot as plt\n",
    "\n",
    "N_samples = 5\n",
    "sigma = 5\n",
    "\n",
    "X = np.vstack((np.ones(N_samples),np.random.uniform(0,10,N_samples))) # homogeneous coordinates\n",
    "w = np.array([2.,3.]) # intercept 2, slope 3\n",
    "                                                                      # X is shaped like (ndim+1,N_samples)\n",
    "\n",
    "y = X.T @ w + np.random.normal(loc=0,scale=sigma,size=N_samples)\n",
    "\n",
    "plt.scatter(X[1,:],y,color='slateblue')\n",
    "plt.xlabel(\"x\")\n",
    "plt.ylabel(\"y\")\n",
    "plt.title(\"Data\")\n",
    "plt.show()\n"
   ]
  },
  {
   "cell_type": "code",
   "execution_count": 111,
   "metadata": {},
   "outputs": [],
   "source": [
    "def log_posterior(w,y,X,sigma):\n",
    "    \"\"\"\n",
    "    Logarithm of the posterior distribution function for coefficients w over a linear Bayesian model.\n",
    "    \n",
    "    Arguments\n",
    "    ------------\n",
    "\n",
    "    w : float, array-like\n",
    "    coefficients array (w0,w1,w2,...) of length: N_dim\n",
    "    y : float, array-like\n",
    "    observations array (y0,y1,y2,...) of length: N_samples\n",
    "    X : float, array-like\n",
    "    features matrix shaped like (N_dim+1,N_samples) with X[0] being an array of ones with length (N_samples)\n",
    "    (homogeneous coordinates)\n",
    "    sigma : float, std for gaussian distribution over y\n",
    "\n",
    "    Returns\n",
    "    ------------\n",
    "    posterior : float, posterior evaluated at the point w\n",
    "    \"\"\"\n",
    "\n",
    "    N_samples = len(y)\n",
    "    \n",
    "\n",
    "    return -N_samples*np.log(sigma*np.sqrt(2*np.pi)) - np.sum((y-X.T @ w)**2)/(2*sigma**2)\n",
    "\n",
    "res = 500\n",
    "w0 = np.linspace(-10,10,res)\n",
    "w1 = np.linspace(-10,10,res)\n",
    "\n",
    "w0s,w1s = np.meshgrid(w0,w1)\n",
    "zz = np.zeros((len(w0),len(w1)))\n",
    "\n",
    "\n",
    "for i in range(len(w0)):\n",
    "    for j in range(len(w1)):\n",
    "        zz[i,j] = log_posterior(np.array([w0[i],w1[j]]),y,X,sigma)\n"
   ]
  },
  {
   "cell_type": "code",
   "execution_count": 112,
   "metadata": {},
   "outputs": [
    {
     "data": {
      "text/plain": [
       "<matplotlib.colorbar.Colorbar at 0x7f4f39cce2b0>"
      ]
     },
     "execution_count": 112,
     "metadata": {},
     "output_type": "execute_result"
    },
    {
     "data": {
      "image/png": "[encoded data removed]",
      "text/plain": [
       "<Figure size 432x288 with 2 Axes>"
      ]
     },
     "metadata": {
      "needs_background": "light"
     },
     "output_type": "display_data"
    }
   ],
   "source": [
    "from matplotlib import ticker\n",
    "\n",
    "\n",
    "\n",
    "fig,ax=plt.subplots()\n",
    "cs=ax.contourf(w0s,w1s,zz,cmap=\"plasma\")\n",
    "fig.colorbar(cs)"
   ]
  },
  {
   "cell_type": "code",
   "execution_count": null,
   "metadata": {},
   "outputs": [],
   "source": []
  }
 ],
 "metadata": {
  "interpreter": {
   "hash": "2b48686ecf5c051869e44bca573c1817bb1844fb32a5df209df0a7813f2e01a7"
  },
  "kernelspec": {
   "display_name": "Python 3.8.2 64-bit ('base': conda)",
   "language": "python",
   "name": "python3"
  },
  "language_info": {
   "codemirror_mode": {
    "name": "ipython",
    "version": 3
   },
   "file_extension": ".py",
   "mimetype": "text/x-python",
   "name": "python",
   "nbconvert_exporter": "python",
   "pygments_lexer": "ipython3",
   "version": "3.8.2"
  },
  "orig_nbformat": 4
 },
 "nbformat": 4,
 "nbformat_minor": 2
}
