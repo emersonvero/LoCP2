{
 "cells": [
  {
   "cell_type": "code",
   "execution_count": 1,
   "metadata": {},
   "outputs": [],
   "source": [
    "#importing cell\n",
    "import numpy as np\n",
    "import matplotlib.pyplot as plt\n",
    "# numerical differentiation\n",
    "from scipy.misc import derivative"
   ]
  },
  {
   "cell_type": "markdown",
   "metadata": {},
   "source": [
    "# PDE-FIND implementation\n",
    "\n",
    "### Data loading"
   ]
  },
  {
   "cell_type": "code",
   "execution_count": 15,
   "metadata": {},
   "outputs": [],
   "source": [
    "x,y,z = np.load(\"./data/lorenz_r.npy\").T\n",
    "t = np.load(\"./data/lorenz_t.npy\")\n",
    "dt = t[1]-t[0] # its evenly spaced"
   ]
  },
  {
   "cell_type": "code",
   "execution_count": 17,
   "metadata": {},
   "outputs": [],
   "source": [
    "# we will use numpy's gradient method that implements second order accurate central differences\n",
    "\n",
    "xdot = np.gradient(x,dt)\n",
    "ydot = np.gradient(y,dt)\n",
    "zdot = np.gradient(z,dt)"
   ]
  },
  {
   "cell_type": "markdown",
   "metadata": {},
   "source": [
    "Basically we want to interpolate a linear regression in a space composed of the original \"features\" plus their derivatives and/or non linear combinations. We want to do this three times, one for each equation of the system."
   ]
  },
  {
   "cell_type": "code",
   "execution_count": null,
   "metadata": {},
   "outputs": [],
   "source": [
    "features = ['bias','x','y','z','xy','yz','zx','x^2','y^2','z^2']\n",
    "\n",
    "# build dataframe with these columns\n",
    "\n",
    "# initialize vecotr of coefficients xi\n",
    "\n",
    "# ridge regression on them"
   ]
  }
 ],
 "metadata": {
  "interpreter": {
   "hash": "2b48686ecf5c051869e44bca573c1817bb1844fb32a5df209df0a7813f2e01a7"
  },
  "kernelspec": {
   "display_name": "Python 3.8.2 64-bit ('base': conda)",
   "language": "python",
   "name": "python3"
  },
  "language_info": {
   "codemirror_mode": {
    "name": "ipython",
    "version": 3
   },
   "file_extension": ".py",
   "mimetype": "text/x-python",
   "name": "python",
   "nbconvert_exporter": "python",
   "pygments_lexer": "ipython3",
   "version": "3.8.2"
  },
  "orig_nbformat": 4
 },
 "nbformat": 4,
 "nbformat_minor": 2
}
